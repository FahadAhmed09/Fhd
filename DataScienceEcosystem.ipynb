{
 "cells": [
  {
   "cell_type": "markdown",
   "id": "82cae6e2-1078-4328-aa57-ff03b2333a4a",
   "metadata": {},
   "source": [
    "# DataScienceEcosystem"
   ]
  },
  {
   "cell_type": "markdown",
   "id": "d7b5749b-e851-46d5-847f-afb5d65d9909",
   "metadata": {},
   "source": [
    "In this notebook, Data Science Tools and Ecosystem are summarized."
   ]
  },
  {
   "cell_type": "markdown",
   "id": "fe38ca0b-2a7b-46a5-a231-d8a32466204d",
   "metadata": {},
   "source": [
    "Some of the popular languages that Data Scientists use are:\n",
    "\n",
    "1. Python \n",
    "2. R \n",
    "3. SQL "
   ]
  },
  {
   "cell_type": "markdown",
   "id": "4e1d5688-fa28-41c6-b386-726809da3ae4",
   "metadata": {},
   "source": [
    "Some of the commonly used libraries used by Data Scientists include:\n",
    "1. NumPy\n",
    "2. Pandas\n",
    "3. Matplotlib"
   ]
  },
  {
   "cell_type": "markdown",
   "id": "f0ea7d11-b177-477e-ad12-bcaa25367df7",
   "metadata": {},
   "source": [
    "|Data Science Tools|\n",
    "|------------------|\n",
    "|RStudio|\n",
    "|Apache Spark|\n",
    "|TensorFlow|"
   ]
  },
  {
   "cell_type": "markdown",
   "id": "9fe59e31-9d28-4c93-8a79-059100652126",
   "metadata": {},
   "source": [
    "### Below are a few examples of evaluating arithmetic expressions in Python"
   ]
  },
  {
   "cell_type": "markdown",
   "id": "c5b2662f-de29-4838-9489-5f4ee2e9c016",
   "metadata": {},
   "source": [
    "This a simple arithmetic expression to mutiply then add integers"
   ]
  },
  {
   "cell_type": "code",
   "execution_count": 2,
   "id": "ad10a85b-1657-4976-a4ed-c40df7a12619",
   "metadata": {},
   "outputs": [
    {
     "data": {
      "text/plain": [
       "17"
      ]
     },
     "execution_count": 2,
     "metadata": {},
     "output_type": "execute_result"
    }
   ],
   "source": [
    "(3*4)+5"
   ]
  },
  {
   "cell_type": "markdown",
   "id": "c15e39be-8807-4eaa-bfb6-4c50bd6ec56e",
   "metadata": {},
   "source": [
    "This will convert 200 minutes to hours by diving by 60"
   ]
  },
  {
   "cell_type": "code",
   "execution_count": 3,
   "id": "cdf0edc8-93e9-45ab-9996-8fc7e2b77a56",
   "metadata": {},
   "outputs": [
    {
     "name": "stdout",
     "output_type": "stream",
     "text": [
      "200 minutes is equal to 3.3333333333333335 hours\n"
     ]
    }
   ],
   "source": [
    "# Assign the value of 200 to the variable \"minutes\"\n",
    "minutes = 200\n",
    "\n",
    "# Calculate the equivalent value in hours by dividing minutes by 60\n",
    "hours = minutes / 60\n",
    "\n",
    "# Print the result\n",
    "print(f\"{minutes} minutes is equal to {hours} hours\")\n"
   ]
  },
  {
   "cell_type": "markdown",
   "id": "52a97ea3-4acb-4de9-bd55-2733f81735b4",
   "metadata": {},
   "source": [
    "**Objectives:**\n",
    "\n",
    "- List popular languages for Data Science \n",
    "\n",
    "- Commonly used libraries used by Data Scientists \n",
    "\n",
    "- Evaluating arithmetic expressions in Python \n"
   ]
  },
  {
   "cell_type": "markdown",
   "id": "10795118-2662-45f0-af8e-18a77bc8c4bc",
   "metadata": {},
   "source": [
    "## Author\n",
    "Fahad Ahmed"
   ]
  },
  {
   "cell_type": "code",
   "execution_count": null,
   "id": "f496e952-90aa-46ff-861e-a48739bc42f0",
   "metadata": {},
   "outputs": [],
   "source": []
  }
 ],
 "metadata": {
  "kernelspec": {
   "display_name": "Python",
   "language": "python",
   "name": "conda-env-python-py"
  },
  "language_info": {
   "codemirror_mode": {
    "name": "ipython",
    "version": 3
   },
   "file_extension": ".py",
   "mimetype": "text/x-python",
   "name": "python",
   "nbconvert_exporter": "python",
   "pygments_lexer": "ipython3",
   "version": "3.7.12"
  }
 },
 "nbformat": 4,
 "nbformat_minor": 5
}
