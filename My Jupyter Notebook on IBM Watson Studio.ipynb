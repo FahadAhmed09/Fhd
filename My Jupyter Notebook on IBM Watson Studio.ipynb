{
 "cells": [
  {
   "cell_type": "markdown",
   "id": "5c2e97d6-f131-476e-9f8e-6395f54c1763",
   "metadata": {},
   "source": [
    "# My Jupyter Notebook on IBM Watson Studio"
   ]
  },
  {
   "cell_type": "markdown",
   "id": "b904245b-fb51-47f7-b49f-42e644a62d35",
   "metadata": {},
   "source": [
    "**Fahad Ahmed**  student"
   ]
  },
  {
   "cell_type": "markdown",
   "id": "b9f2be4e-e8ab-48b5-a7d0-4cf63ff25ddd",
   "metadata": {},
   "source": [
    "*I am interested in data science because Data science is a fascinating field that benefits from an endless variety of applications*"
   ]
  },
  {
   "cell_type": "markdown",
   "id": "8ba6e848-f1c1-4ce5-a484-e95e7041889d",
   "metadata": {},
   "source": [
    "### The below should print my name"
   ]
  },
  {
   "cell_type": "code",
   "execution_count": 3,
   "id": "3e5828de-fe78-4de4-9783-6adef1920e13",
   "metadata": {},
   "outputs": [
    {
     "name": "stdout",
     "output_type": "stream",
     "text": [
      "Fahad Ahmed\n"
     ]
    }
   ],
   "source": [
    "print(\"Fahad Ahmed\")"
   ]
  },
  {
   "cell_type": "code",
   "execution_count": null,
   "id": "a4426646-ae59-447d-b994-2876479db2e9",
   "metadata": {},
   "outputs": [],
   "source": []
  }
 ],
 "metadata": {
  "kernelspec": {
   "display_name": "Python",
   "language": "python",
   "name": "conda-env-python-py"
  },
  "language_info": {
   "codemirror_mode": {
    "name": "ipython",
    "version": 3
   },
   "file_extension": ".py",
   "mimetype": "text/x-python",
   "name": "python",
   "nbconvert_exporter": "python",
   "pygments_lexer": "ipython3",
   "version": "3.7.12"
  }
 },
 "nbformat": 4,
 "nbformat_minor": 5
}
